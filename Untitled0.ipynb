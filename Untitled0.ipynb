{
  "nbformat": 4,
  "nbformat_minor": 0,
  "metadata": {
    "colab": {
      "name": "Untitled0.ipynb",
      "provenance": [],
      "authorship_tag": "ABX9TyNXBi9fVYu/v+CozrrT5uAU",
      "include_colab_link": true
    },
    "kernelspec": {
      "name": "python3",
      "display_name": "Python 3"
    }
  },
  "cells": [
    {
      "cell_type": "markdown",
      "metadata": {
        "id": "view-in-github",
        "colab_type": "text"
      },
      "source": [
        "<a href=\"https://colab.research.google.com/github/prakha10/discussions/blob/main/Untitled0.ipynb\" target=\"_parent\"><img src=\"https://colab.research.google.com/assets/colab-badge.svg\" alt=\"Open In Colab\"/></a>"
      ]
    },
    {
      "cell_type": "code",
      "metadata": {
        "id": "0HcTbGG8e9wt"
      },
      "source": [
        "import numpy as np\r\n",
        "from scipy.misc import derivative                            # for the deriavtive of the cubic equation \r\n",
        "\r\n",
        "x_n = 1.0                                                    # starting point for the equation. \r\n",
        "x = np.linspace(-1, 1,300)                                   # range  for the calcualtion.\r\n",
        "def func(x):\r\n",
        "  return 2*x**3 + 4*x**2 + 3*x + 5\r\n",
        "\r\n",
        "def next(func, x, x_n): \r\n",
        "  slope = derivative(func, x_n, dx=1)                         # finds the derivative of given cubic equation.\r\n",
        "  return x_n - func(x_n)/slope                                #returns the next value x(i+1).\r\n",
        "\r\n",
        "for value in range (10):                                      # Prints the root value.\r\n",
        "  print(x_n)     \r\n",
        "  x_n = next(func,x,x_n)"
      ],
      "execution_count": null,
      "outputs": []
    }
  ]
}