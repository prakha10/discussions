{
  "nbformat": 4,
  "nbformat_minor": 0,
  "metadata": {
    "colab": {
      "name": "Untitled0.ipynb",
      "provenance": [],
      "authorship_tag": "ABX9TyMeYJNVxIwQNg5HdUrpohia",
      "include_colab_link": true
    },
    "kernelspec": {
      "name": "python3",
      "display_name": "Python 3"
    }
  },
  "cells": [
    {
      "cell_type": "markdown",
      "metadata": {
        "id": "view-in-github",
        "colab_type": "text"
      },
      "source": [
        "<a href=\"https://colab.research.google.com/github/prakha10/discussions/blob/main/Untitled0.ipynb\" target=\"_parent\"><img src=\"https://colab.research.google.com/assets/colab-badge.svg\" alt=\"Open In Colab\"/></a>"
      ]
    },
    {
      "cell_type": "code",
      "metadata": {
        "colab": {
          "base_uri": "https://localhost:8080/"
        },
        "id": "0HcTbGG8e9wt",
        "outputId": "9645e1d0-ff6f-48e4-dad9-1e9284af5c9a"
      },
      "source": [
        "import numpy as np\r\n",
        "from scipy.misc import derivative                            # for the deriavtive of the cubic equation \r\n",
        "\r\n",
        "x_n = -1.0                                                    # starting point for the equation. \r\n",
        "x = np.linspace(-1, 1,300)                                   # range  for the calcualtion.\r\n",
        "def func(x):\r\n",
        "  return 2*x**3 + 4*x**2 + 3*x + 5\r\n",
        "\r\n",
        "def next(func, x, x_n): \r\n",
        "  slope = derivative(func, x_n, dx=1)                         # finds the derivative of given cubic equation.\r\n",
        "  return x_n - func(x_n)/slope                                #returns the next value x(i+1).\r\n",
        "\r\n",
        "for value in range (10):                                      # Prints the root value.\r\n",
        "  print(x_n)     \r\n",
        "  x_n = next(func,x,x_n)"
      ],
      "execution_count": 22,
      "outputs": [
        {
          "output_type": "stream",
          "text": [
            "-1.0\n",
            "-2.333333333333333\n",
            "-2.0370370370370368\n",
            "-1.9327431314319867\n",
            "-1.9079959891035039\n",
            "-1.9033222268286178\n",
            "-1.9024959326222637\n",
            "-1.9023517509554047\n",
            "-1.9023266512153925\n",
            "-1.902322283535602\n"
          ],
          "name": "stdout"
        }
      ]
    },
    {
      "cell_type": "code",
      "metadata": {
        "colab": {
          "base_uri": "https://localhost:8080/",
          "height": 279
        },
        "id": "fgXIJlRui2aN",
        "outputId": "6531b41c-2596-4b86-eaab-49a2b93fd6ac"
      },
      "source": [
        "import numpy as np\r\n",
        "import matplotlib.pyplot as plt\r\n",
        "\r\n",
        "def plot_me(a,b,c,d,clr,mystr):\r\n",
        "  x = np.arange(-4.0,4.0,.5)\r\n",
        "  y = [(a*i**3 + b*i**2 + c*i + d)for i in x]\r\n",
        "  plt.plot(x,y, linestyle='-')\r\n",
        "  plt.grid(True)\r\n",
        "  plt.text(-3,50, mystr)\r\n",
        "  plt.xlabel('x')\r\n",
        "  plt.ylabel('y')\r\n",
        "  plt.show()\r\n",
        "  plt.close()\r\n",
        "\r\n",
        "plot_me(2,4,3,5, 'r', 'f(X)=2x^3+4x^2+3x+5')"
      ],
      "execution_count": 20,
      "outputs": [
        {
          "output_type": "display_data",
          "data": {
            "image/png": "[encoded data removed]",
            "text/plain": [
              "<Figure size 432x288 with 1 Axes>"
            ]
          },
          "metadata": {
            "tags": [],
            "needs_background": "light"
          }
        }
      ]
    },
    {
      "cell_type": "markdown",
      "metadata": {
        "id": "9Z5Vtz37nnOV"
      },
      "source": [
        "The above written code is to find the  cube root of the function F(x)=2x^3+4x^2+3x+5.  from the start, i gussed the  value of the root would be some where around -1 so that x_n is the guess value and from the code solving the value of my root was -1.902322283535602."
      ]
    },
    {
      "cell_type": "code",
      "metadata": {
        "id": "T3rTJWbDoaCs"
      },
      "source": [
        ""
      ],
      "execution_count": null,
      "outputs": []
    }
  ]
}